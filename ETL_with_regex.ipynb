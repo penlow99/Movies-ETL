{
 "metadata": {
  "language_info": {
   "codemirror_mode": {
    "name": "ipython",
    "version": 3
   },
   "file_extension": ".py",
   "mimetype": "text/x-python",
   "name": "python",
   "nbconvert_exporter": "python",
   "pygments_lexer": "ipython3",
   "version": "3.8.3-final"
  },
  "orig_nbformat": 2,
  "kernelspec": {
   "name": "pythondata",
   "display_name": "PythonData"
  }
 },
 "nbformat": 4,
 "nbformat_minor": 2,
 "cells": [
  {
   "cell_type": "code",
   "execution_count": 2,
   "metadata": {},
   "outputs": [],
   "source": [
    "import json \n",
    "import pandas as pd \n",
    "import numpy as np \n",
    "import re "
   ]
  },
  {
   "cell_type": "code",
   "execution_count": 3,
   "metadata": {},
   "outputs": [],
   "source": [
    "file_dir = 'C://Users/penlo/OneDrive/Desktop/Analysis Projects/Movies-ETL/'"
   ]
  },
  {
   "cell_type": "code",
   "execution_count": 4,
   "metadata": {},
   "outputs": [],
   "source": [
    "with open(f'{file_dir}wikipedia-movies.json', mode='r') as file:\n",
    "    wiki_movies_raw = json.load(file)"
   ]
  },
  {
   "cell_type": "code",
   "execution_count": 5,
   "metadata": {},
   "outputs": [
    {
     "output_type": "execute_result",
     "data": {
      "text/plain": [
       "7311"
      ]
     },
     "metadata": {},
     "execution_count": 5
    }
   ],
   "source": [
    "len(wiki_movies_raw)"
   ]
  },
  {
   "cell_type": "code",
   "execution_count": 6,
   "metadata": {},
   "outputs": [
    {
     "output_type": "execute_result",
     "data": {
      "text/plain": [
       "[{'url': 'https://en.wikipedia.org/wiki/The_Adventures_of_Ford_Fairlane',\n",
       "  'year': 1990,\n",
       "  'imdb_link': 'https://www.imdb.com/title/tt0098987/',\n",
       "  'title': 'The Adventures of Ford Fairlane',\n",
       "  'Directed by': 'Renny Harlin',\n",
       "  'Produced by': ['Steve Perry', 'Joel Silver'],\n",
       "  'Screenplay by': ['David Arnott', 'James Cappe', 'Daniel Waters'],\n",
       "  'Story by': ['David Arnott', 'James Cappe'],\n",
       "  'Based on': ['Characters', 'by Rex Weiner'],\n",
       "  'Starring': ['Andrew Dice Clay',\n",
       "   'Wayne Newton',\n",
       "   'Priscilla Presley',\n",
       "   'Lauren Holly',\n",
       "   'Morris Day',\n",
       "   'Robert Englund',\n",
       "   \"Ed O'Neill\"],\n",
       "  'Narrated by': 'Andrew \"Dice\" Clay',\n",
       "  'Music by': ['Cliff Eidelman', 'Yello'],\n",
       "  'Cinematography': 'Oliver Wood',\n",
       "  'Edited by': 'Michael Tronick',\n",
       "  'Productioncompany ': 'Silver Pictures',\n",
       "  'Distributed by': '20th Century Fox',\n",
       "  'Release date': ['July 11, 1990', '(', '1990-07-11', ')'],\n",
       "  'Running time': '102 minutes',\n",
       "  'Country': 'United States',\n",
       "  'Language': 'English',\n",
       "  'Budget': '$20 million',\n",
       "  'Box office': '$21.4 million'}]"
      ]
     },
     "metadata": {},
     "execution_count": 6
    }
   ],
   "source": [
    "wiki_movies_raw[:1]"
   ]
  },
  {
   "cell_type": "code",
   "execution_count": 7,
   "metadata": {},
   "outputs": [],
   "source": [
    "kaggle_metadata = pd.read_csv(f'{file_dir}movies_metadata.csv', low_memory=False)\n",
    "ratings = pd.read_csv(f'{file_dir}ratings.csv')"
   ]
  },
  {
   "cell_type": "code",
   "execution_count": 8,
   "metadata": {},
   "outputs": [
    {
     "output_type": "execute_result",
     "data": {
      "text/plain": [
       "       adult                              belongs_to_collection   budget  \\\n",
       "16518  False                                                NaN        0   \n",
       "43422  False                                                NaN        0   \n",
       "8679   False                                                NaN        0   \n",
       "33256  False                                                NaN        0   \n",
       "4407   False  {'id': 89272, 'name': 'The Man From Snowy Rive...  3500000   \n",
       "\n",
       "                                                  genres  \\\n",
       "16518                     [{'id': 35, 'name': 'Comedy'}]   \n",
       "43422                     [{'id': 35, 'name': 'Comedy'}]   \n",
       "8679   [{'id': 10749, 'name': 'Romance'}, {'id': 18, ...   \n",
       "33256  [{'id': 53, 'name': 'Thriller'}, {'id': 9648, ...   \n",
       "4407   [{'id': 10751, 'name': 'Family'}, {'id': 18, '...   \n",
       "\n",
       "                            homepage     id    imdb_id original_language  \\\n",
       "16518                            NaN  20332  tt1369567                en   \n",
       "43422     http://www.lewisblack.com/  37406  tt0814187                en   \n",
       "8679                             NaN  38646  tt0067483                en   \n",
       "33256  http://www.solitarymovie.com/  72642  tt1327763                en   \n",
       "4407                             NaN  24266  tt0084296                en   \n",
       "\n",
       "                             original_title  \\\n",
       "16518  Russell Peters: Red, White and Brown   \n",
       "43422     Lewis Black: Red, White & Screwed   \n",
       "8679                 Nicholas and Alexandra   \n",
       "33256                              Solitary   \n",
       "4407               The Man from Snowy River   \n",
       "\n",
       "                                                overview  ... release_date  \\\n",
       "16518  In this sold-out performance, Canadian comic R...  ...   2008-10-07   \n",
       "43422  Lewis Black stars in his second HBO solo speci...  ...   2006-06-10   \n",
       "8679   Biography of the last Russian Monarch, Tsar Ni...  ...   1971-11-29   \n",
       "33256  Sara (Amber Jaeger) suffers from agoraphobia, ...  ...   2009-03-29   \n",
       "4407   Jim Craig has lived his first 18 years in the ...  ...   1982-03-02   \n",
       "\n",
       "          revenue runtime                                   spoken_languages  \\\n",
       "16518         0.0    57.0           [{'iso_639_1': 'en', 'name': 'English'}]   \n",
       "43422         0.0    75.0           [{'iso_639_1': 'en', 'name': 'English'}]   \n",
       "8679          0.0   189.0  [{'iso_639_1': 'en', 'name': 'English'}, {'iso...   \n",
       "33256         0.0    91.0           [{'iso_639_1': 'en', 'name': 'English'}]   \n",
       "4407   20659423.0   104.0           [{'iso_639_1': 'en', 'name': 'English'}]   \n",
       "\n",
       "         status                                            tagline  \\\n",
       "16518  Released                                                NaN   \n",
       "43422  Released                                the way I see it...   \n",
       "8679   Released                                                NaN   \n",
       "33256  Released                Some Mysteries Must Be Solved Alone   \n",
       "4407   Released  The story of a boy suddenly alone in the world...   \n",
       "\n",
       "                                      title  video vote_average vote_count  \n",
       "16518  Russell Peters: Red, White and Brown  False          7.2       12.0  \n",
       "43422     Lewis Black: Red, White & Screwed  False          5.5       12.0  \n",
       "8679                 Nicholas and Alexandra  False          7.0       23.0  \n",
       "33256                              Solitary  False          5.8        3.0  \n",
       "4407               The Man from Snowy River  False          6.9       38.0  \n",
       "\n",
       "[5 rows x 24 columns]"
      ],
      "text/html": "<div>\n<style scoped>\n    .dataframe tbody tr th:only-of-type {\n        vertical-align: middle;\n    }\n\n    .dataframe tbody tr th {\n        vertical-align: top;\n    }\n\n    .dataframe thead th {\n        text-align: right;\n    }\n</style>\n<table border=\"1\" class=\"dataframe\">\n  <thead>\n    <tr style=\"text-align: right;\">\n      <th></th>\n      <th>adult</th>\n      <th>belongs_to_collection</th>\n      <th>budget</th>\n      <th>genres</th>\n      <th>homepage</th>\n      <th>id</th>\n      <th>imdb_id</th>\n      <th>original_language</th>\n      <th>original_title</th>\n      <th>overview</th>\n      <th>...</th>\n      <th>release_date</th>\n      <th>revenue</th>\n      <th>runtime</th>\n      <th>spoken_languages</th>\n      <th>status</th>\n      <th>tagline</th>\n      <th>title</th>\n      <th>video</th>\n      <th>vote_average</th>\n      <th>vote_count</th>\n    </tr>\n  </thead>\n  <tbody>\n    <tr>\n      <th>16518</th>\n      <td>False</td>\n      <td>NaN</td>\n      <td>0</td>\n      <td>[{'id': 35, 'name': 'Comedy'}]</td>\n      <td>NaN</td>\n      <td>20332</td>\n      <td>tt1369567</td>\n      <td>en</td>\n      <td>Russell Peters: Red, White and Brown</td>\n      <td>In this sold-out performance, Canadian comic R...</td>\n      <td>...</td>\n      <td>2008-10-07</td>\n      <td>0.0</td>\n      <td>57.0</td>\n      <td>[{'iso_639_1': 'en', 'name': 'English'}]</td>\n      <td>Released</td>\n      <td>NaN</td>\n      <td>Russell Peters: Red, White and Brown</td>\n      <td>False</td>\n      <td>7.2</td>\n      <td>12.0</td>\n    </tr>\n    <tr>\n      <th>43422</th>\n      <td>False</td>\n      <td>NaN</td>\n      <td>0</td>\n      <td>[{'id': 35, 'name': 'Comedy'}]</td>\n      <td>http://www.lewisblack.com/</td>\n      <td>37406</td>\n      <td>tt0814187</td>\n      <td>en</td>\n      <td>Lewis Black: Red, White &amp; Screwed</td>\n      <td>Lewis Black stars in his second HBO solo speci...</td>\n      <td>...</td>\n      <td>2006-06-10</td>\n      <td>0.0</td>\n      <td>75.0</td>\n      <td>[{'iso_639_1': 'en', 'name': 'English'}]</td>\n      <td>Released</td>\n      <td>the way I see it...</td>\n      <td>Lewis Black: Red, White &amp; Screwed</td>\n      <td>False</td>\n      <td>5.5</td>\n      <td>12.0</td>\n    </tr>\n    <tr>\n      <th>8679</th>\n      <td>False</td>\n      <td>NaN</td>\n      <td>0</td>\n      <td>[{'id': 10749, 'name': 'Romance'}, {'id': 18, ...</td>\n      <td>NaN</td>\n      <td>38646</td>\n      <td>tt0067483</td>\n      <td>en</td>\n      <td>Nicholas and Alexandra</td>\n      <td>Biography of the last Russian Monarch, Tsar Ni...</td>\n      <td>...</td>\n      <td>1971-11-29</td>\n      <td>0.0</td>\n      <td>189.0</td>\n      <td>[{'iso_639_1': 'en', 'name': 'English'}, {'iso...</td>\n      <td>Released</td>\n      <td>NaN</td>\n      <td>Nicholas and Alexandra</td>\n      <td>False</td>\n      <td>7.0</td>\n      <td>23.0</td>\n    </tr>\n    <tr>\n      <th>33256</th>\n      <td>False</td>\n      <td>NaN</td>\n      <td>0</td>\n      <td>[{'id': 53, 'name': 'Thriller'}, {'id': 9648, ...</td>\n      <td>http://www.solitarymovie.com/</td>\n      <td>72642</td>\n      <td>tt1327763</td>\n      <td>en</td>\n      <td>Solitary</td>\n      <td>Sara (Amber Jaeger) suffers from agoraphobia, ...</td>\n      <td>...</td>\n      <td>2009-03-29</td>\n      <td>0.0</td>\n      <td>91.0</td>\n      <td>[{'iso_639_1': 'en', 'name': 'English'}]</td>\n      <td>Released</td>\n      <td>Some Mysteries Must Be Solved Alone</td>\n      <td>Solitary</td>\n      <td>False</td>\n      <td>5.8</td>\n      <td>3.0</td>\n    </tr>\n    <tr>\n      <th>4407</th>\n      <td>False</td>\n      <td>{'id': 89272, 'name': 'The Man From Snowy Rive...</td>\n      <td>3500000</td>\n      <td>[{'id': 10751, 'name': 'Family'}, {'id': 18, '...</td>\n      <td>NaN</td>\n      <td>24266</td>\n      <td>tt0084296</td>\n      <td>en</td>\n      <td>The Man from Snowy River</td>\n      <td>Jim Craig has lived his first 18 years in the ...</td>\n      <td>...</td>\n      <td>1982-03-02</td>\n      <td>20659423.0</td>\n      <td>104.0</td>\n      <td>[{'iso_639_1': 'en', 'name': 'English'}]</td>\n      <td>Released</td>\n      <td>The story of a boy suddenly alone in the world...</td>\n      <td>The Man from Snowy River</td>\n      <td>False</td>\n      <td>6.9</td>\n      <td>38.0</td>\n    </tr>\n  </tbody>\n</table>\n<p>5 rows × 24 columns</p>\n</div>"
     },
     "metadata": {},
     "execution_count": 8
    }
   ],
   "source": [
    "kaggle_metadata.sample(n=5)"
   ]
  },
  {
   "cell_type": "code",
   "execution_count": 9,
   "metadata": {},
   "outputs": [
    {
     "output_type": "execute_result",
     "data": {
      "text/plain": [
       "          userId  movieId  rating   timestamp\n",
       "24421903  253712     1345     4.0   864651799\n",
       "21043647  218699     6666     0.5  1483379413\n",
       "17700329  183615    34150     5.0  1342230565"
      ],
      "text/html": "<div>\n<style scoped>\n    .dataframe tbody tr th:only-of-type {\n        vertical-align: middle;\n    }\n\n    .dataframe tbody tr th {\n        vertical-align: top;\n    }\n\n    .dataframe thead th {\n        text-align: right;\n    }\n</style>\n<table border=\"1\" class=\"dataframe\">\n  <thead>\n    <tr style=\"text-align: right;\">\n      <th></th>\n      <th>userId</th>\n      <th>movieId</th>\n      <th>rating</th>\n      <th>timestamp</th>\n    </tr>\n  </thead>\n  <tbody>\n    <tr>\n      <th>24421903</th>\n      <td>253712</td>\n      <td>1345</td>\n      <td>4.0</td>\n      <td>864651799</td>\n    </tr>\n    <tr>\n      <th>21043647</th>\n      <td>218699</td>\n      <td>6666</td>\n      <td>0.5</td>\n      <td>1483379413</td>\n    </tr>\n    <tr>\n      <th>17700329</th>\n      <td>183615</td>\n      <td>34150</td>\n      <td>5.0</td>\n      <td>1342230565</td>\n    </tr>\n  </tbody>\n</table>\n</div>"
     },
     "metadata": {},
     "execution_count": 9
    }
   ],
   "source": [
    "ratings.sample(n=3)"
   ]
  },
  {
   "cell_type": "code",
   "execution_count": 10,
   "metadata": {},
   "outputs": [
    {
     "output_type": "execute_result",
     "data": {
      "text/plain": [
       "adult                    45466\n",
       "belongs_to_collection     4494\n",
       "budget                   45466\n",
       "genres                   45466\n",
       "homepage                  7782\n",
       "id                       45466\n",
       "imdb_id                  45449\n",
       "original_language        45455\n",
       "original_title           45466\n",
       "overview                 44512\n",
       "popularity               45461\n",
       "poster_path              45080\n",
       "production_companies     45463\n",
       "production_countries     45463\n",
       "release_date             45379\n",
       "revenue                  45460\n",
       "runtime                  45203\n",
       "spoken_languages         45460\n",
       "status                   45379\n",
       "tagline                  20412\n",
       "title                    45460\n",
       "video                    45460\n",
       "vote_average             45460\n",
       "vote_count               45460\n",
       "dtype: int64"
      ]
     },
     "metadata": {},
     "execution_count": 10
    }
   ],
   "source": [
    "kaggle_metadata.count()"
   ]
  },
  {
   "cell_type": "code",
   "execution_count": 11,
   "metadata": {},
   "outputs": [
    {
     "output_type": "execute_result",
     "data": {
      "text/plain": [
       "                                                    url    year  \\\n",
       "4024  https://en.wikipedia.org/wiki/The_Thing_About_...  2005.0   \n",
       "1286         https://en.wikipedia.org/wiki/Forget_Paris  1995.0   \n",
       "2323  https://en.wikipedia.org/wiki/I%27ll_Be_Home_f...  1998.0   \n",
       "\n",
       "                                  imdb_link                       title  \\\n",
       "4024  https://www.imdb.com/title/tt0429177/    The Thing About My Folks   \n",
       "1286  https://www.imdb.com/title/tt0113097/                Forget Paris   \n",
       "2323  https://www.imdb.com/title/tt0155753/  I'll Be Home for Christmas   \n",
       "\n",
       "             Directed by                                        Produced by  \\\n",
       "4024  Raymond De Felitta      [Paul Reiser, Robert Newmyer, Jeffrey Silver]   \n",
       "1286       Billy Crystal                                      Billy Crystal   \n",
       "2323      Arlene Sanford  [Robin French, Justis Greene, David Hoberman, ...   \n",
       "\n",
       "                       Screenplay by       Story by Based on  \\\n",
       "4024                             NaN            NaN      NaN   \n",
       "1286                             NaN            NaN      NaN   \n",
       "2323  [Tom Nursall, Harris Goldberg]  Michael Allin      NaN   \n",
       "\n",
       "                                               Starring  ... Predecessor  \\\n",
       "4024         [Peter Falk, Paul Reiser, Olympia Dukakis]  ...         NaN   \n",
       "1286  [Billy Crystal, Debra Winger, Joe Mantegna, Ju...  ...         NaN   \n",
       "2323  [Jonathan Taylor Thomas, Jessica Biel, Adam La...  ...         NaN   \n",
       "\n",
       "     Founders Area served Products Services Russian Hebrew Revenue  \\\n",
       "4024      NaN         NaN      NaN      NaN     NaN    NaN     NaN   \n",
       "1286      NaN         NaN      NaN      NaN     NaN    NaN     NaN   \n",
       "2323      NaN         NaN      NaN      NaN     NaN    NaN     NaN   \n",
       "\n",
       "     Operating income Polish  \n",
       "4024              NaN    NaN  \n",
       "1286              NaN    NaN  \n",
       "2323              NaN    NaN  \n",
       "\n",
       "[3 rows x 193 columns]"
      ],
      "text/html": "<div>\n<style scoped>\n    .dataframe tbody tr th:only-of-type {\n        vertical-align: middle;\n    }\n\n    .dataframe tbody tr th {\n        vertical-align: top;\n    }\n\n    .dataframe thead th {\n        text-align: right;\n    }\n</style>\n<table border=\"1\" class=\"dataframe\">\n  <thead>\n    <tr style=\"text-align: right;\">\n      <th></th>\n      <th>url</th>\n      <th>year</th>\n      <th>imdb_link</th>\n      <th>title</th>\n      <th>Directed by</th>\n      <th>Produced by</th>\n      <th>Screenplay by</th>\n      <th>Story by</th>\n      <th>Based on</th>\n      <th>Starring</th>\n      <th>...</th>\n      <th>Predecessor</th>\n      <th>Founders</th>\n      <th>Area served</th>\n      <th>Products</th>\n      <th>Services</th>\n      <th>Russian</th>\n      <th>Hebrew</th>\n      <th>Revenue</th>\n      <th>Operating income</th>\n      <th>Polish</th>\n    </tr>\n  </thead>\n  <tbody>\n    <tr>\n      <th>4024</th>\n      <td>https://en.wikipedia.org/wiki/The_Thing_About_...</td>\n      <td>2005.0</td>\n      <td>https://www.imdb.com/title/tt0429177/</td>\n      <td>The Thing About My Folks</td>\n      <td>Raymond De Felitta</td>\n      <td>[Paul Reiser, Robert Newmyer, Jeffrey Silver]</td>\n      <td>NaN</td>\n      <td>NaN</td>\n      <td>NaN</td>\n      <td>[Peter Falk, Paul Reiser, Olympia Dukakis]</td>\n      <td>...</td>\n      <td>NaN</td>\n      <td>NaN</td>\n      <td>NaN</td>\n      <td>NaN</td>\n      <td>NaN</td>\n      <td>NaN</td>\n      <td>NaN</td>\n      <td>NaN</td>\n      <td>NaN</td>\n      <td>NaN</td>\n    </tr>\n    <tr>\n      <th>1286</th>\n      <td>https://en.wikipedia.org/wiki/Forget_Paris</td>\n      <td>1995.0</td>\n      <td>https://www.imdb.com/title/tt0113097/</td>\n      <td>Forget Paris</td>\n      <td>Billy Crystal</td>\n      <td>Billy Crystal</td>\n      <td>NaN</td>\n      <td>NaN</td>\n      <td>NaN</td>\n      <td>[Billy Crystal, Debra Winger, Joe Mantegna, Ju...</td>\n      <td>...</td>\n      <td>NaN</td>\n      <td>NaN</td>\n      <td>NaN</td>\n      <td>NaN</td>\n      <td>NaN</td>\n      <td>NaN</td>\n      <td>NaN</td>\n      <td>NaN</td>\n      <td>NaN</td>\n      <td>NaN</td>\n    </tr>\n    <tr>\n      <th>2323</th>\n      <td>https://en.wikipedia.org/wiki/I%27ll_Be_Home_f...</td>\n      <td>1998.0</td>\n      <td>https://www.imdb.com/title/tt0155753/</td>\n      <td>I'll Be Home for Christmas</td>\n      <td>Arlene Sanford</td>\n      <td>[Robin French, Justis Greene, David Hoberman, ...</td>\n      <td>[Tom Nursall, Harris Goldberg]</td>\n      <td>Michael Allin</td>\n      <td>NaN</td>\n      <td>[Jonathan Taylor Thomas, Jessica Biel, Adam La...</td>\n      <td>...</td>\n      <td>NaN</td>\n      <td>NaN</td>\n      <td>NaN</td>\n      <td>NaN</td>\n      <td>NaN</td>\n      <td>NaN</td>\n      <td>NaN</td>\n      <td>NaN</td>\n      <td>NaN</td>\n      <td>NaN</td>\n    </tr>\n  </tbody>\n</table>\n<p>3 rows × 193 columns</p>\n</div>"
     },
     "metadata": {},
     "execution_count": 11
    }
   ],
   "source": [
    "wiki_movies_df = pd.DataFrame(wiki_movies_raw)\n",
    "wiki_movies_df.sample(n=3)"
   ]
  },
  {
   "cell_type": "code",
   "execution_count": 12,
   "metadata": {},
   "outputs": [],
   "source": [
    "# wiki_movies_df.columns.to_list()"
   ]
  },
  {
   "cell_type": "code",
   "execution_count": 13,
   "metadata": {},
   "outputs": [
    {
     "output_type": "execute_result",
     "data": {
      "text/plain": [
       "7076"
      ]
     },
     "metadata": {},
     "execution_count": 13
    }
   ],
   "source": [
    "wiki_movies = [movie for movie in wiki_movies_raw\n",
    "                if ('Director' in movie or 'Directed by' in movie)\n",
    "                and ('imdb_link' in movie)\n",
    "                and 'No. of episodes' not in movie]\n",
    "len(wiki_movies)"
   ]
  },
  {
   "cell_type": "code",
   "execution_count": 14,
   "metadata": {},
   "outputs": [
    {
     "output_type": "execute_result",
     "data": {
      "text/plain": [
       "75"
      ]
     },
     "metadata": {},
     "execution_count": 14
    }
   ],
   "source": [
    "wiki_movies_df = pd.DataFrame(wiki_movies)\n",
    "wiki_movies_df.columns.size"
   ]
  },
  {
   "cell_type": "code",
   "execution_count": 15,
   "metadata": {},
   "outputs": [
    {
     "output_type": "execute_result",
     "data": {
      "text/plain": [
       "                                                  url  year  \\\n",
       "6834  https://en.wikipedia.org/wiki/The_Insult_(film)  2018   \n",
       "7058   https://en.wikipedia.org/wiki/Capernaum_(film)  2018   \n",
       "\n",
       "                                  imdb_link       title    Directed by  \\\n",
       "6834  https://www.imdb.com/title/tt7048622/  The Insult   Ziad Doueiri   \n",
       "7058  https://www.imdb.com/title/tt8267604/   Capernaum  Nadine Labaki   \n",
       "\n",
       "                                            Produced by  \\\n",
       "6834  [Rachid Bouchareb, Jean Bréhat, Julie Gayet, A...   \n",
       "7058                    [Michel Merkt, Khaled Mouzanar]   \n",
       "\n",
       "                                          Screenplay by  \\\n",
       "6834                                                NaN   \n",
       "7058  [Nadine Labaki, Jihad Hojaily, Michelle Keserw...   \n",
       "\n",
       "                                               Story by Based on  \\\n",
       "6834                                                NaN      NaN   \n",
       "7058  [Georges Khabbaz, Nadine Labaki, Michelle Kese...      NaN   \n",
       "\n",
       "                                               Starring  ... Hepburn  \\\n",
       "6834                       [Adel Karam, Kamel El Basha]  ...     NaN   \n",
       "7058  [Zain Al Rafeea, Yordanos Shiferaw, Boluwatife...  ...     NaN   \n",
       "\n",
       "        Literally Cantonese Chinese Yiddish       Arabic        Romanized  \\\n",
       "6834  Case No. 23       NaN     NaN     NaN  قضية رقم ٢٣  Qadiyya raqm 23   \n",
       "7058          NaN       NaN     NaN     NaN    کفرناحوم‎              NaN   \n",
       "\n",
       "     Russian Hebrew Polish  \n",
       "6834     NaN    NaN    NaN  \n",
       "7058     NaN    NaN    NaN  \n",
       "\n",
       "[2 rows x 75 columns]"
      ],
      "text/html": "<div>\n<style scoped>\n    .dataframe tbody tr th:only-of-type {\n        vertical-align: middle;\n    }\n\n    .dataframe tbody tr th {\n        vertical-align: top;\n    }\n\n    .dataframe thead th {\n        text-align: right;\n    }\n</style>\n<table border=\"1\" class=\"dataframe\">\n  <thead>\n    <tr style=\"text-align: right;\">\n      <th></th>\n      <th>url</th>\n      <th>year</th>\n      <th>imdb_link</th>\n      <th>title</th>\n      <th>Directed by</th>\n      <th>Produced by</th>\n      <th>Screenplay by</th>\n      <th>Story by</th>\n      <th>Based on</th>\n      <th>Starring</th>\n      <th>...</th>\n      <th>Hepburn</th>\n      <th>Literally</th>\n      <th>Cantonese</th>\n      <th>Chinese</th>\n      <th>Yiddish</th>\n      <th>Arabic</th>\n      <th>Romanized</th>\n      <th>Russian</th>\n      <th>Hebrew</th>\n      <th>Polish</th>\n    </tr>\n  </thead>\n  <tbody>\n    <tr>\n      <th>6834</th>\n      <td>https://en.wikipedia.org/wiki/The_Insult_(film)</td>\n      <td>2018</td>\n      <td>https://www.imdb.com/title/tt7048622/</td>\n      <td>The Insult</td>\n      <td>Ziad Doueiri</td>\n      <td>[Rachid Bouchareb, Jean Bréhat, Julie Gayet, A...</td>\n      <td>NaN</td>\n      <td>NaN</td>\n      <td>NaN</td>\n      <td>[Adel Karam, Kamel El Basha]</td>\n      <td>...</td>\n      <td>NaN</td>\n      <td>Case No. 23</td>\n      <td>NaN</td>\n      <td>NaN</td>\n      <td>NaN</td>\n      <td>قضية رقم ٢٣</td>\n      <td>Qadiyya raqm 23</td>\n      <td>NaN</td>\n      <td>NaN</td>\n      <td>NaN</td>\n    </tr>\n    <tr>\n      <th>7058</th>\n      <td>https://en.wikipedia.org/wiki/Capernaum_(film)</td>\n      <td>2018</td>\n      <td>https://www.imdb.com/title/tt8267604/</td>\n      <td>Capernaum</td>\n      <td>Nadine Labaki</td>\n      <td>[Michel Merkt, Khaled Mouzanar]</td>\n      <td>[Nadine Labaki, Jihad Hojaily, Michelle Keserw...</td>\n      <td>[Georges Khabbaz, Nadine Labaki, Michelle Kese...</td>\n      <td>NaN</td>\n      <td>[Zain Al Rafeea, Yordanos Shiferaw, Boluwatife...</td>\n      <td>...</td>\n      <td>NaN</td>\n      <td>NaN</td>\n      <td>NaN</td>\n      <td>NaN</td>\n      <td>NaN</td>\n      <td>کفرناحوم‎</td>\n      <td>NaN</td>\n      <td>NaN</td>\n      <td>NaN</td>\n      <td>NaN</td>\n    </tr>\n  </tbody>\n</table>\n<p>2 rows × 75 columns</p>\n</div>"
     },
     "metadata": {},
     "execution_count": 15
    }
   ],
   "source": [
    "wiki_movies_df[wiki_movies_df['Arabic'].notnull()]"
   ]
  },
  {
   "cell_type": "code",
   "execution_count": 16,
   "metadata": {},
   "outputs": [],
   "source": [
    "def clean_movie(movie):\n",
    "    movie = dict(movie) # creates a non-destructive, local copy of the original movie dictionary\n",
    "\n",
    "    # combine foreign language columns (as dictionaries) into one column (dictionary called alt_titles)\n",
    "    alt_titles = {}\n",
    "    for key in ['Also known as','Arabic','Cantonese','Chinese','French',\n",
    "                'Hangul','Hebrew','Hepburn','Japanese','Literally',\n",
    "                'Mandarin','McCune–Reischauer','Original title','Polish',\n",
    "                'Revised Romanization','Romanized','Russian',\n",
    "                'Simplified','Traditional','Yiddish']:\n",
    "        if key in movie:\n",
    "            alt_titles[key] = movie[key]\n",
    "            movie.pop(key)\n",
    "    if len(alt_titles) > 0:\n",
    "        movie['alt_titles'] = alt_titles\n",
    "\n",
    "    # merge similar columns that have disparate headers, but the same info \n",
    "    # such as 'Directed by' merges into 'Director', or 'Country of origin' becomes simply 'Country'\n",
    "    def change_column_name(old_name, new_name):\n",
    "        if old_name in movie:\n",
    "            movie[new_name] = movie.pop(old_name)\n",
    "     \n",
    "    # columns to change\n",
    "    change_column_name('Adaptation by', 'Writer(s)')\n",
    "    change_column_name('Country of origin', 'Country')\n",
    "    change_column_name('Directed by', 'Director')\n",
    "    change_column_name('Distributed by', 'Distributor')\n",
    "    change_column_name('Edited by', 'Editor(s)')\n",
    "    change_column_name('Length', 'Running time')\n",
    "    change_column_name('Original release', 'Release date')\n",
    "    change_column_name('Music by', 'Composer(s)')\n",
    "    change_column_name('Produced by', 'Producer(s)')\n",
    "    change_column_name('Producer', 'Producer(s)')\n",
    "    change_column_name('Productioncompanies ', 'Production company(s)')\n",
    "    change_column_name('Productioncompany ', 'Production company(s)')\n",
    "    change_column_name('Released', 'Release Date')\n",
    "    change_column_name('Release Date', 'Release date')\n",
    "    change_column_name('Screen story by', 'Writer(s)')\n",
    "    change_column_name('Screenplay by', 'Writer(s)')\n",
    "    change_column_name('Story by', 'Writer(s)')\n",
    "    change_column_name('Theme music composer', 'Composer(s)')\n",
    "    change_column_name('Written by', 'Writer(s)')\n",
    "\n",
    "    return movie\n"
   ]
  },
  {
   "cell_type": "code",
   "execution_count": 17,
   "metadata": {},
   "outputs": [
    {
     "output_type": "execute_result",
     "data": {
      "text/plain": [
       "39"
      ]
     },
     "metadata": {},
     "execution_count": 17
    }
   ],
   "source": [
    "# run the movies through the cleaning function above and add the cleaned list to a DataFrame\n",
    "clean_movies = [clean_movie(movie) for movie in wiki_movies]\n",
    "wiki_movies_df = pd.DataFrame(clean_movies) \n",
    "wiki_movies_df.columns.size"
   ]
  },
  {
   "cell_type": "code",
   "execution_count": 18,
   "metadata": {},
   "outputs": [
    {
     "output_type": "stream",
     "name": "stdout",
     "text": [
      "7076\n"
     ]
    }
   ],
   "source": [
    "wiki_movies_df['imdb_id'] = wiki_movies_df['imdb_link'].str.extract(r'(tt\\d{7})')\n",
    "print(len(wiki_movies_df))"
   ]
  },
  {
   "cell_type": "code",
   "execution_count": 19,
   "metadata": {},
   "outputs": [
    {
     "output_type": "stream",
     "name": "stdout",
     "text": [
      "7033\n"
     ]
    }
   ],
   "source": [
    "wiki_movies_df.drop_duplicates(subset='imdb_id', inplace=True)\n",
    "print(len(wiki_movies_df))"
   ]
  },
  {
   "cell_type": "code",
   "execution_count": 20,
   "metadata": {},
   "outputs": [
    {
     "output_type": "execute_result",
     "data": {
      "text/plain": [
       "url                       7033\n",
       "year                      7033\n",
       "imdb_link                 7033\n",
       "title                     7032\n",
       "Based on                  2181\n",
       "Starring                  6849\n",
       "Narrated by                281\n",
       "Cinematography            6342\n",
       "Release date              7001\n",
       "Running time              6894\n",
       "Country                   6797\n",
       "Language                  6789\n",
       "Budget                    4738\n",
       "Box office                5485\n",
       "Director                  7033\n",
       "Distributor               6676\n",
       "Editor(s)                 6485\n",
       "Composer(s)               6515\n",
       "Producer(s)               6831\n",
       "Production company(s)     5355\n",
       "Writer(s)                 6834\n",
       "Genre                      110\n",
       "Original language(s)       158\n",
       "Original network           125\n",
       "Executive producer(s)       97\n",
       "Production location(s)      47\n",
       "Picture format              64\n",
       "Audio format                61\n",
       "Voices of                    2\n",
       "Followed by                  9\n",
       "Created by                  10\n",
       "Preceded by                 10\n",
       "Suggested by                 1\n",
       "alt_titles                  21\n",
       "Recorded                     2\n",
       "Venue                        1\n",
       "Label                        2\n",
       "Animation by                 2\n",
       "Color process                1\n",
       "imdb_id                   7033\n",
       "dtype: int64"
      ]
     },
     "metadata": {},
     "execution_count": 20
    }
   ],
   "source": [
    "wiki_movies_df.count()"
   ]
  },
  {
   "cell_type": "code",
   "execution_count": 21,
   "metadata": {},
   "outputs": [
    {
     "output_type": "execute_result",
     "data": {
      "text/plain": [
       "url                          0\n",
       "year                         0\n",
       "imdb_link                    0\n",
       "title                        1\n",
       "Based on                  4852\n",
       "Starring                   184\n",
       "Narrated by               6752\n",
       "Cinematography             691\n",
       "Release date                32\n",
       "Running time               139\n",
       "Country                    236\n",
       "Language                   244\n",
       "Budget                    2295\n",
       "Box office                1548\n",
       "Director                     0\n",
       "Distributor                357\n",
       "Editor(s)                  548\n",
       "Composer(s)                518\n",
       "Producer(s)                202\n",
       "Production company(s)     1678\n",
       "Writer(s)                  199\n",
       "Genre                     6923\n",
       "Original language(s)      6875\n",
       "Original network          6908\n",
       "Executive producer(s)     6936\n",
       "Production location(s)    6986\n",
       "Picture format            6969\n",
       "Audio format              6972\n",
       "Voices of                 7031\n",
       "Followed by               7024\n",
       "Created by                7023\n",
       "Preceded by               7023\n",
       "Suggested by              7032\n",
       "alt_titles                7012\n",
       "Recorded                  7031\n",
       "Venue                     7032\n",
       "Label                     7031\n",
       "Animation by              7031\n",
       "Color process             7032\n",
       "imdb_id                      0\n",
       "dtype: int64"
      ]
     },
     "metadata": {},
     "execution_count": 21
    }
   ],
   "source": [
    "wiki_movies_df.isnull().sum()"
   ]
  },
  {
   "cell_type": "code",
   "execution_count": 22,
   "metadata": {},
   "outputs": [
    {
     "output_type": "execute_result",
     "data": {
      "text/plain": [
       "21"
      ]
     },
     "metadata": {},
     "execution_count": 22
    }
   ],
   "source": [
    "wiki_columns_to_keep = [column for column in wiki_movies_df.columns if wiki_movies_df[column].isnull().sum() < len(wiki_movies_df) * 0.9]\n",
    "wiki_movies_df = wiki_movies_df[wiki_columns_to_keep]\n",
    "wiki_movies_df.columns.size"
   ]
  },
  {
   "cell_type": "code",
   "execution_count": 23,
   "metadata": {},
   "outputs": [
    {
     "output_type": "execute_result",
     "data": {
      "text/plain": [
       "url                      7033\n",
       "year                     7033\n",
       "imdb_link                7033\n",
       "title                    7032\n",
       "Based on                 2181\n",
       "Starring                 6849\n",
       "Cinematography           6342\n",
       "Release date             7001\n",
       "Running time             6894\n",
       "Country                  6797\n",
       "Language                 6789\n",
       "Budget                   4738\n",
       "Box office               5485\n",
       "Director                 7033\n",
       "Distributor              6676\n",
       "Editor(s)                6485\n",
       "Composer(s)              6515\n",
       "Producer(s)              6831\n",
       "Production company(s)    5355\n",
       "Writer(s)                6834\n",
       "imdb_id                  7033\n",
       "dtype: int64"
      ]
     },
     "metadata": {},
     "execution_count": 23
    }
   ],
   "source": [
    "wiki_movies_df.count()"
   ]
  },
  {
   "cell_type": "code",
   "execution_count": 24,
   "metadata": {},
   "outputs": [
    {
     "output_type": "execute_result",
     "data": {
      "text/plain": [
       "url                      object\n",
       "year                      int64\n",
       "imdb_link                object\n",
       "title                    object\n",
       "Based on                 object\n",
       "Starring                 object\n",
       "Cinematography           object\n",
       "Release date             object\n",
       "Running time             object\n",
       "Country                  object\n",
       "Language                 object\n",
       "Budget                   object\n",
       "Box office               object\n",
       "Director                 object\n",
       "Distributor              object\n",
       "Editor(s)                object\n",
       "Composer(s)              object\n",
       "Producer(s)              object\n",
       "Production company(s)    object\n",
       "Writer(s)                object\n",
       "imdb_id                  object\n",
       "dtype: object"
      ]
     },
     "metadata": {},
     "execution_count": 24
    }
   ],
   "source": [
    "wiki_movies_df.dtypes"
   ]
  },
  {
   "cell_type": "code",
   "execution_count": 25,
   "metadata": {},
   "outputs": [
    {
     "output_type": "execute_result",
     "data": {
      "text/plain": [
       "6745                      NaN\n",
       "1902                      NaN\n",
       "6823              $40 million\n",
       "1302                      NaN\n",
       "232                       NaN\n",
       "2855               $2 million\n",
       "1509                      NaN\n",
       "5834    Less than $10 million\n",
       "3159        [US$, 30 million]\n",
       "2585              $51 million\n",
       "Name: Budget, dtype: object"
      ]
     },
     "metadata": {},
     "execution_count": 25
    }
   ],
   "source": [
    "wiki_movies_df['Budget'].sample(n=10)"
   ]
  },
  {
   "cell_type": "code",
   "execution_count": 88,
   "metadata": {},
   "outputs": [],
   "source": [
    "box_office = wiki_movies_df['Box office'].dropna()"
   ]
  },
  {
   "cell_type": "code",
   "execution_count": 89,
   "metadata": {},
   "outputs": [],
   "source": [
    "def is_not_a_string(x):\n",
    "    return type(x) != str"
   ]
  },
  {
   "cell_type": "code",
   "execution_count": 90,
   "metadata": {},
   "outputs": [
    {
     "output_type": "execute_result",
     "data": {
      "text/plain": [
       "34                           [US$, 4,212,828]\n",
       "54      [$6,698,361 (, United States, ), [2]]\n",
       "74                    [$6,488,144, (US), [1]]\n",
       "126                [US$1,531,489, (domestic)]\n",
       "130                          [US$, 4,803,039]\n",
       "                        ...                  \n",
       "6980               [$99.6, million, [4], [5]]\n",
       "6994                   [$365.6, million, [1]]\n",
       "6995                         [$53.8, million]\n",
       "7015                     [$435, million, [7]]\n",
       "7048                   [$529.3, million, [4]]\n",
       "Name: Box office, Length: 135, dtype: object"
      ]
     },
     "metadata": {},
     "execution_count": 90
    }
   ],
   "source": [
    "box_office[box_office.map(lambda x: type(x) != str)]  # is_not_a_string function replaced with lambda function"
   ]
  },
  {
   "cell_type": "code",
   "execution_count": 91,
   "metadata": {},
   "outputs": [
    {
     "output_type": "execute_result",
     "data": {
      "text/plain": [
       "5485"
      ]
     },
     "metadata": {},
     "execution_count": 91
    }
   ],
   "source": [
    "box_office = box_office.apply(lambda x: ' '.join(x) if type(x) == list else x)   # joins the values with a space (' ') only if they are list data type\n",
    "box_office = box_office.str.replace(r'\\$.*[-—–](?![a-z])', '$', regex=True)\n",
    "len(box_office)"
   ]
  },
  {
   "cell_type": "code",
   "execution_count": 98,
   "metadata": {},
   "outputs": [
    {
     "output_type": "execute_result",
     "data": {
      "text/plain": [
       "5468"
      ]
     },
     "metadata": {},
     "execution_count": 98
    }
   ],
   "source": [
    "# Create regex's, see how many values in the box_office series contain these expressions, and add the sums together\n",
    "form_one = r'\\$\\s*\\d+\\.?\\d*\\s*[mb]illi?on'\n",
    "form_two = r'\\$\\s*\\d{1,3}(?:[,\\.]\\d{3})+(?!\\s[mb]illi?on)'\n",
    "box_office.str.contains(form_one, flags=re.IGNORECASE).sum() + box_office.str.contains(form_two, flags=re.IGNORECASE).sum()"
   ]
  },
  {
   "cell_type": "code",
   "execution_count": 99,
   "metadata": {
    "tags": []
   },
   "outputs": [
    {
     "output_type": "stream",
     "name": "stdout",
     "text": [
      "Not matched by regexs:19\n"
     ]
    }
   ],
   "source": [
    "# create a list of box_office values that don't match either of our regex's (and get a count just for gits and shiggles)\n",
    "no_list = []\n",
    "for i in box_office:\n",
    "    if not (re.search(form_one, i, flags=re.IGNORECASE)) and not (re.search(form_two, i, flags=re.IGNORECASE)):\n",
    "        no_list.append(i)\n",
    "print(f'Not matched by regexs:{len(no_list)}')\n",
    "# no_list "
   ]
  },
  {
   "cell_type": "code",
   "execution_count": 100,
   "metadata": {},
   "outputs": [
    {
     "output_type": "execute_result",
     "data": {
      "text/plain": [
       "600                      $5000 (US)\n",
       "1070                     35,254,617\n",
       "1480                     £3 million\n",
       "1865                   ¥1.1 billion\n",
       "2032                            N/A\n",
       "2091                           $309\n",
       "2665    926,423 admissions (France)\n",
       "3631                            TBA\n",
       "3879       CN¥3.650 million (China)\n",
       "4116                     £7,385,434\n",
       "4306                            $30\n",
       "4561        $45.2k (only in Turkey)\n",
       "5447                          £2.56\n",
       "5784                       413 733$\n",
       "6013                        Unknown\n",
       "6369                          $111k\n",
       "6370                           $588\n",
       "6593                 less than $372\n",
       "6843                        8 crore\n",
       "Name: Box office, dtype: object"
      ]
     },
     "metadata": {},
     "execution_count": 100
    }
   ],
   "source": [
    "# Another method to see what fields are not 'caught' by our regex's\n",
    "matches_form_one = box_office.str.contains(form_one, flags=re.IGNORECASE)\n",
    "matches_form_two = box_office.str.contains(form_two, flags=re.IGNORECASE)\n",
    "box_office[~matches_form_one & ~matches_form_two]"
   ]
  },
  {
   "cell_type": "code",
   "execution_count": null,
   "metadata": {},
   "outputs": [],
   "source": [
    "def parse_dollars(s):\n",
    "    # if s is not a string, return NaN\n",
    "    if type(s) != str:\n",
    "        return np.nan\n",
    "    # if input is of the form $###.# million\n",
    "    if re.match(r'\\$\\s*\\d+\\.?\\d*\\s*[mb]illi?on', s, flags=re.IGNORECASE): \n",
    "        # remove dollar sign and \" million\"\n",
    "\n",
    "        # convert to float and multiply by a million\n",
    "\n",
    "        # return value\n",
    "\n",
    "    # if input is of the form $###.# billion\n",
    "    elif re.match(r'\\$\\s*\\d{1,3}(?:[,\\.]\\d{3})+(?!\\s[mb]illi?on)', s, re.IGNORECASE)\n",
    "        # remove dollar sign and \" billion\"\n",
    "\n",
    "        # convert to float and multiply by a billion\n",
    "\n",
    "        # return value\n",
    "\n",
    "    # if input is of the form $###,###,###\n",
    "\n",
    "        # remove dollar sign and commas\n",
    "\n",
    "        # convert to float\n",
    "\n",
    "        # return value\n",
    "\n",
    "    # otherwise, return NaN"
   ]
  }
 ]
}