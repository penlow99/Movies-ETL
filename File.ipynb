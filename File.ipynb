{
 "metadata": {
  "language_info": {
   "codemirror_mode": {
    "name": "ipython",
    "version": 3
   },
   "file_extension": ".py",
   "mimetype": "text/x-python",
   "name": "python",
   "nbconvert_exporter": "python",
   "pygments_lexer": "ipython3",
   "version": "3.8.3-final"
  },
  "orig_nbformat": 2,
  "kernelspec": {
   "name": "pythondata",
   "display_name": "PythonData"
  }
 },
 "nbformat": 4,
 "nbformat_minor": 2,
 "cells": [
  {
   "cell_type": "code",
   "execution_count": 142,
   "metadata": {},
   "outputs": [],
   "source": [
    "import json \n",
    "import pandas as pd \n",
    "import numpy as np \n",
    "import re "
   ]
  },
  {
   "cell_type": "code",
   "execution_count": 90,
   "metadata": {},
   "outputs": [],
   "source": [
    "file_dir = 'C://Users/penlo/OneDrive/Desktop/Analysis Projects/Movies-ETL/'"
   ]
  },
  {
   "cell_type": "code",
   "execution_count": 91,
   "metadata": {},
   "outputs": [],
   "source": [
    "with open(f'{file_dir}wikipedia-movies.json', mode='r') as file:\n",
    "    wiki_movies_raw = json.load(file)"
   ]
  },
  {
   "cell_type": "code",
   "execution_count": 92,
   "metadata": {},
   "outputs": [
    {
     "output_type": "execute_result",
     "data": {
      "text/plain": [
       "7311"
      ]
     },
     "metadata": {},
     "execution_count": 92
    }
   ],
   "source": [
    "len(wiki_movies_raw)"
   ]
  },
  {
   "cell_type": "code",
   "execution_count": 93,
   "metadata": {},
   "outputs": [
    {
     "output_type": "execute_result",
     "data": {
      "text/plain": [
       "[{'url': 'https://en.wikipedia.org/wiki/The_Adventures_of_Ford_Fairlane',\n",
       "  'year': 1990,\n",
       "  'imdb_link': 'https://www.imdb.com/title/tt0098987/',\n",
       "  'title': 'The Adventures of Ford Fairlane',\n",
       "  'Directed by': 'Renny Harlin',\n",
       "  'Produced by': ['Steve Perry', 'Joel Silver'],\n",
       "  'Screenplay by': ['David Arnott', 'James Cappe', 'Daniel Waters'],\n",
       "  'Story by': ['David Arnott', 'James Cappe'],\n",
       "  'Based on': ['Characters', 'by Rex Weiner'],\n",
       "  'Starring': ['Andrew Dice Clay',\n",
       "   'Wayne Newton',\n",
       "   'Priscilla Presley',\n",
       "   'Lauren Holly',\n",
       "   'Morris Day',\n",
       "   'Robert Englund',\n",
       "   \"Ed O'Neill\"],\n",
       "  'Narrated by': 'Andrew \"Dice\" Clay',\n",
       "  'Music by': ['Cliff Eidelman', 'Yello'],\n",
       "  'Cinematography': 'Oliver Wood',\n",
       "  'Edited by': 'Michael Tronick',\n",
       "  'Productioncompany ': 'Silver Pictures',\n",
       "  'Distributed by': '20th Century Fox',\n",
       "  'Release date': ['July 11, 1990', '(', '1990-07-11', ')'],\n",
       "  'Running time': '102 minutes',\n",
       "  'Country': 'United States',\n",
       "  'Language': 'English',\n",
       "  'Budget': '$20 million',\n",
       "  'Box office': '$21.4 million'}]"
      ]
     },
     "metadata": {},
     "execution_count": 93
    }
   ],
   "source": [
    "wiki_movies_raw[:1]"
   ]
  },
  {
   "cell_type": "code",
   "execution_count": 94,
   "metadata": {},
   "outputs": [],
   "source": [
    "kaggle_metadata = pd.read_csv(f'{file_dir}movies_metadata.csv', low_memory=False)\n",
    "ratings = pd.read_csv(f'{file_dir}ratings.csv')"
   ]
  },
  {
   "cell_type": "code",
   "execution_count": 95,
   "metadata": {},
   "outputs": [
    {
     "output_type": "execute_result",
     "data": {
      "text/plain": [
       "       adult                              belongs_to_collection     budget  \\\n",
       "38727  False  {'id': 261307, 'name': 'Alice in Wonderland Co...  170000000   \n",
       "10233  False                                                NaN          0   \n",
       "39861  False                                                NaN          0   \n",
       "10998  False                                                NaN   25000000   \n",
       "34760  False                                                NaN          0   \n",
       "\n",
       "                                                  genres  \\\n",
       "38727  [{'id': 10751, 'name': 'Family'}, {'id': 14, '...   \n",
       "10233  [{'id': 18, 'name': 'Drama'}, {'id': 10402, 'n...   \n",
       "39861                      [{'id': 18, 'name': 'Drama'}]   \n",
       "10998  [{'id': 18, 'name': 'Drama'}, {'id': 27, 'name...   \n",
       "34760                     [{'id': 27, 'name': 'Horror'}]   \n",
       "\n",
       "                                                homepage      id    imdb_id  \\\n",
       "38727  http://movies.disney.com/alice-through-the-loo...  241259  tt2567026   \n",
       "10233                                                NaN   72899  tt0066109   \n",
       "39861                                                NaN   41125  tt0084893   \n",
       "10998                       http://www.theomenmovie.com/     806  tt0466909   \n",
       "34760                                                NaN   40469  tt0082378   \n",
       "\n",
       "      original_language                   original_title  \\\n",
       "38727                en  Alice Through the Looking Glass   \n",
       "10233                en                 The Music Lovers   \n",
       "39861                en            We of the Never Never   \n",
       "10998                en                         The Omen   \n",
       "34760                en                       Final Exam   \n",
       "\n",
       "                                                overview  ... release_date  \\\n",
       "38727  In the sequel to Tim Burton's \"Alice in Wonder...  ...   2016-05-25   \n",
       "10233  Composer, conductor and teacher Peter Ilych Tc...  ...   1970-12-01   \n",
       "39861  Based on the well-loved Australian classic by ...  ...   1982-11-04   \n",
       "10998  A diplomatic couple adopts the son of the devi...  ...   2006-06-06   \n",
       "34760  In a small college in North Carolina, only a s...  ...   1981-06-05   \n",
       "\n",
       "           revenue runtime                                   spoken_languages  \\\n",
       "38727  299370084.0   113.0           [{'iso_639_1': 'en', 'name': 'English'}]   \n",
       "10233          0.0   123.0  [{'iso_639_1': 'hu', 'name': 'Magyar'}, {'iso_...   \n",
       "39861          0.0   134.0           [{'iso_639_1': 'en', 'name': 'English'}]   \n",
       "10998  119188334.0   110.0           [{'iso_639_1': 'en', 'name': 'English'}]   \n",
       "34760          0.0    90.0           [{'iso_639_1': 'en', 'name': 'English'}]   \n",
       "\n",
       "         status                                            tagline  \\\n",
       "38727  Released                    It's time for a little madness.   \n",
       "10233  Released                                                NaN   \n",
       "39861  Released  The story of the love and courage of a remarka...   \n",
       "10998  Released                         A new generation of terror   \n",
       "34760  Released         Some may pass the test… God help the rest.   \n",
       "\n",
       "                                 title  video vote_average vote_count  \n",
       "38727  Alice Through the Looking Glass  False          6.5     1782.0  \n",
       "10233                 The Music Lovers  False          6.5       12.0  \n",
       "39861            We of the Never Never  False          7.0        2.0  \n",
       "10998                         The Omen  False          5.3      287.0  \n",
       "34760                       Final Exam  False          4.9       18.0  \n",
       "\n",
       "[5 rows x 24 columns]"
      ],
      "text/html": "<div>\n<style scoped>\n    .dataframe tbody tr th:only-of-type {\n        vertical-align: middle;\n    }\n\n    .dataframe tbody tr th {\n        vertical-align: top;\n    }\n\n    .dataframe thead th {\n        text-align: right;\n    }\n</style>\n<table border=\"1\" class=\"dataframe\">\n  <thead>\n    <tr style=\"text-align: right;\">\n      <th></th>\n      <th>adult</th>\n      <th>belongs_to_collection</th>\n      <th>budget</th>\n      <th>genres</th>\n      <th>homepage</th>\n      <th>id</th>\n      <th>imdb_id</th>\n      <th>original_language</th>\n      <th>original_title</th>\n      <th>overview</th>\n      <th>...</th>\n      <th>release_date</th>\n      <th>revenue</th>\n      <th>runtime</th>\n      <th>spoken_languages</th>\n      <th>status</th>\n      <th>tagline</th>\n      <th>title</th>\n      <th>video</th>\n      <th>vote_average</th>\n      <th>vote_count</th>\n    </tr>\n  </thead>\n  <tbody>\n    <tr>\n      <th>38727</th>\n      <td>False</td>\n      <td>{'id': 261307, 'name': 'Alice in Wonderland Co...</td>\n      <td>170000000</td>\n      <td>[{'id': 10751, 'name': 'Family'}, {'id': 14, '...</td>\n      <td>http://movies.disney.com/alice-through-the-loo...</td>\n      <td>241259</td>\n      <td>tt2567026</td>\n      <td>en</td>\n      <td>Alice Through the Looking Glass</td>\n      <td>In the sequel to Tim Burton's \"Alice in Wonder...</td>\n      <td>...</td>\n      <td>2016-05-25</td>\n      <td>299370084.0</td>\n      <td>113.0</td>\n      <td>[{'iso_639_1': 'en', 'name': 'English'}]</td>\n      <td>Released</td>\n      <td>It's time for a little madness.</td>\n      <td>Alice Through the Looking Glass</td>\n      <td>False</td>\n      <td>6.5</td>\n      <td>1782.0</td>\n    </tr>\n    <tr>\n      <th>10233</th>\n      <td>False</td>\n      <td>NaN</td>\n      <td>0</td>\n      <td>[{'id': 18, 'name': 'Drama'}, {'id': 10402, 'n...</td>\n      <td>NaN</td>\n      <td>72899</td>\n      <td>tt0066109</td>\n      <td>en</td>\n      <td>The Music Lovers</td>\n      <td>Composer, conductor and teacher Peter Ilych Tc...</td>\n      <td>...</td>\n      <td>1970-12-01</td>\n      <td>0.0</td>\n      <td>123.0</td>\n      <td>[{'iso_639_1': 'hu', 'name': 'Magyar'}, {'iso_...</td>\n      <td>Released</td>\n      <td>NaN</td>\n      <td>The Music Lovers</td>\n      <td>False</td>\n      <td>6.5</td>\n      <td>12.0</td>\n    </tr>\n    <tr>\n      <th>39861</th>\n      <td>False</td>\n      <td>NaN</td>\n      <td>0</td>\n      <td>[{'id': 18, 'name': 'Drama'}]</td>\n      <td>NaN</td>\n      <td>41125</td>\n      <td>tt0084893</td>\n      <td>en</td>\n      <td>We of the Never Never</td>\n      <td>Based on the well-loved Australian classic by ...</td>\n      <td>...</td>\n      <td>1982-11-04</td>\n      <td>0.0</td>\n      <td>134.0</td>\n      <td>[{'iso_639_1': 'en', 'name': 'English'}]</td>\n      <td>Released</td>\n      <td>The story of the love and courage of a remarka...</td>\n      <td>We of the Never Never</td>\n      <td>False</td>\n      <td>7.0</td>\n      <td>2.0</td>\n    </tr>\n    <tr>\n      <th>10998</th>\n      <td>False</td>\n      <td>NaN</td>\n      <td>25000000</td>\n      <td>[{'id': 18, 'name': 'Drama'}, {'id': 27, 'name...</td>\n      <td>http://www.theomenmovie.com/</td>\n      <td>806</td>\n      <td>tt0466909</td>\n      <td>en</td>\n      <td>The Omen</td>\n      <td>A diplomatic couple adopts the son of the devi...</td>\n      <td>...</td>\n      <td>2006-06-06</td>\n      <td>119188334.0</td>\n      <td>110.0</td>\n      <td>[{'iso_639_1': 'en', 'name': 'English'}]</td>\n      <td>Released</td>\n      <td>A new generation of terror</td>\n      <td>The Omen</td>\n      <td>False</td>\n      <td>5.3</td>\n      <td>287.0</td>\n    </tr>\n    <tr>\n      <th>34760</th>\n      <td>False</td>\n      <td>NaN</td>\n      <td>0</td>\n      <td>[{'id': 27, 'name': 'Horror'}]</td>\n      <td>NaN</td>\n      <td>40469</td>\n      <td>tt0082378</td>\n      <td>en</td>\n      <td>Final Exam</td>\n      <td>In a small college in North Carolina, only a s...</td>\n      <td>...</td>\n      <td>1981-06-05</td>\n      <td>0.0</td>\n      <td>90.0</td>\n      <td>[{'iso_639_1': 'en', 'name': 'English'}]</td>\n      <td>Released</td>\n      <td>Some may pass the test… God help the rest.</td>\n      <td>Final Exam</td>\n      <td>False</td>\n      <td>4.9</td>\n      <td>18.0</td>\n    </tr>\n  </tbody>\n</table>\n<p>5 rows × 24 columns</p>\n</div>"
     },
     "metadata": {},
     "execution_count": 95
    }
   ],
   "source": [
    "kaggle_metadata.sample(n=5)"
   ]
  },
  {
   "cell_type": "code",
   "execution_count": 96,
   "metadata": {},
   "outputs": [
    {
     "output_type": "execute_result",
     "data": {
      "text/plain": [
       "          userId  movieId  rating   timestamp\n",
       "19576003  203360    91658     3.0  1461956072\n",
       "9800007   101110     2926     3.0   945066308\n",
       "19276490  200212      344     3.0   833055125"
      ],
      "text/html": "<div>\n<style scoped>\n    .dataframe tbody tr th:only-of-type {\n        vertical-align: middle;\n    }\n\n    .dataframe tbody tr th {\n        vertical-align: top;\n    }\n\n    .dataframe thead th {\n        text-align: right;\n    }\n</style>\n<table border=\"1\" class=\"dataframe\">\n  <thead>\n    <tr style=\"text-align: right;\">\n      <th></th>\n      <th>userId</th>\n      <th>movieId</th>\n      <th>rating</th>\n      <th>timestamp</th>\n    </tr>\n  </thead>\n  <tbody>\n    <tr>\n      <th>19576003</th>\n      <td>203360</td>\n      <td>91658</td>\n      <td>3.0</td>\n      <td>1461956072</td>\n    </tr>\n    <tr>\n      <th>9800007</th>\n      <td>101110</td>\n      <td>2926</td>\n      <td>3.0</td>\n      <td>945066308</td>\n    </tr>\n    <tr>\n      <th>19276490</th>\n      <td>200212</td>\n      <td>344</td>\n      <td>3.0</td>\n      <td>833055125</td>\n    </tr>\n  </tbody>\n</table>\n</div>"
     },
     "metadata": {},
     "execution_count": 96
    }
   ],
   "source": [
    "ratings.sample(n=3)"
   ]
  },
  {
   "cell_type": "code",
   "execution_count": 97,
   "metadata": {},
   "outputs": [
    {
     "output_type": "execute_result",
     "data": {
      "text/plain": [
       "adult                    45466\n",
       "belongs_to_collection     4494\n",
       "budget                   45466\n",
       "genres                   45466\n",
       "homepage                  7782\n",
       "id                       45466\n",
       "imdb_id                  45449\n",
       "original_language        45455\n",
       "original_title           45466\n",
       "overview                 44512\n",
       "popularity               45461\n",
       "poster_path              45080\n",
       "production_companies     45463\n",
       "production_countries     45463\n",
       "release_date             45379\n",
       "revenue                  45460\n",
       "runtime                  45203\n",
       "spoken_languages         45460\n",
       "status                   45379\n",
       "tagline                  20412\n",
       "title                    45460\n",
       "video                    45460\n",
       "vote_average             45460\n",
       "vote_count               45460\n",
       "dtype: int64"
      ]
     },
     "metadata": {},
     "execution_count": 97
    }
   ],
   "source": [
    "kaggle_metadata.count()"
   ]
  },
  {
   "cell_type": "code",
   "execution_count": 98,
   "metadata": {},
   "outputs": [
    {
     "output_type": "execute_result",
     "data": {
      "text/plain": [
       "                                                    url    year  \\\n",
       "3296  https://en.wikipedia.org/wiki/Rollerball_(2002...  2002.0   \n",
       "929   https://en.wikipedia.org/wiki/Blown_Away_(1994...  1994.0   \n",
       "2630        https://en.wikipedia.org/wiki/Random_Hearts  1999.0   \n",
       "\n",
       "                                  imdb_link          title      Directed by  \\\n",
       "3296  https://www.imdb.com/title/tt0246894/     Rollerball   John McTiernan   \n",
       "929   https://www.imdb.com/title/tt0109303/     Blown Away  Stephen Hopkins   \n",
       "2630  https://www.imdb.com/title/tt0156934/  Random Hearts   Sydney Pollack   \n",
       "\n",
       "                                           Produced by  \\\n",
       "3296   [John McTiernan, Charles Roven, Beau St. Clair]   \n",
       "929   [Pen Densham, Richard Barton Lewis, John Watson]   \n",
       "2630                    [Martin Jurow, Marykay Powell]   \n",
       "\n",
       "                     Screenplay by                  Story by  \\\n",
       "3296  [Larry Ferguson, John Pogue]                       NaN   \n",
       "929                            NaN  [John Rice, Joe Batteer]   \n",
       "2630                  Kurt Luedtke                       NaN   \n",
       "\n",
       "                                               Based on  \\\n",
       "3296  [\"Roller Ball Murder\", by, William Harrison, 1...   \n",
       "929                                                 NaN   \n",
       "2630                  [Random Hearts, by, Warren Adler]   \n",
       "\n",
       "                                               Starring  ... Predecessor  \\\n",
       "3296  [Chris Klein, Jean Reno, LL Cool J, Rebecca Ro...  ...         NaN   \n",
       "929   [Jeff Bridges, Tommy Lee Jones, Lloyd Bridges,...  ...         NaN   \n",
       "2630  [Harrison Ford, Kristin Scott Thomas, Charles ...  ...         NaN   \n",
       "\n",
       "     Founders Area served Products Services Russian Hebrew Revenue  \\\n",
       "3296      NaN         NaN      NaN      NaN     NaN    NaN     NaN   \n",
       "929       NaN         NaN      NaN      NaN     NaN    NaN     NaN   \n",
       "2630      NaN         NaN      NaN      NaN     NaN    NaN     NaN   \n",
       "\n",
       "     Operating income Polish  \n",
       "3296              NaN    NaN  \n",
       "929               NaN    NaN  \n",
       "2630              NaN    NaN  \n",
       "\n",
       "[3 rows x 193 columns]"
      ],
      "text/html": "<div>\n<style scoped>\n    .dataframe tbody tr th:only-of-type {\n        vertical-align: middle;\n    }\n\n    .dataframe tbody tr th {\n        vertical-align: top;\n    }\n\n    .dataframe thead th {\n        text-align: right;\n    }\n</style>\n<table border=\"1\" class=\"dataframe\">\n  <thead>\n    <tr style=\"text-align: right;\">\n      <th></th>\n      <th>url</th>\n      <th>year</th>\n      <th>imdb_link</th>\n      <th>title</th>\n      <th>Directed by</th>\n      <th>Produced by</th>\n      <th>Screenplay by</th>\n      <th>Story by</th>\n      <th>Based on</th>\n      <th>Starring</th>\n      <th>...</th>\n      <th>Predecessor</th>\n      <th>Founders</th>\n      <th>Area served</th>\n      <th>Products</th>\n      <th>Services</th>\n      <th>Russian</th>\n      <th>Hebrew</th>\n      <th>Revenue</th>\n      <th>Operating income</th>\n      <th>Polish</th>\n    </tr>\n  </thead>\n  <tbody>\n    <tr>\n      <th>3296</th>\n      <td>https://en.wikipedia.org/wiki/Rollerball_(2002...</td>\n      <td>2002.0</td>\n      <td>https://www.imdb.com/title/tt0246894/</td>\n      <td>Rollerball</td>\n      <td>John McTiernan</td>\n      <td>[John McTiernan, Charles Roven, Beau St. Clair]</td>\n      <td>[Larry Ferguson, John Pogue]</td>\n      <td>NaN</td>\n      <td>[\"Roller Ball Murder\", by, William Harrison, 1...</td>\n      <td>[Chris Klein, Jean Reno, LL Cool J, Rebecca Ro...</td>\n      <td>...</td>\n      <td>NaN</td>\n      <td>NaN</td>\n      <td>NaN</td>\n      <td>NaN</td>\n      <td>NaN</td>\n      <td>NaN</td>\n      <td>NaN</td>\n      <td>NaN</td>\n      <td>NaN</td>\n      <td>NaN</td>\n    </tr>\n    <tr>\n      <th>929</th>\n      <td>https://en.wikipedia.org/wiki/Blown_Away_(1994...</td>\n      <td>1994.0</td>\n      <td>https://www.imdb.com/title/tt0109303/</td>\n      <td>Blown Away</td>\n      <td>Stephen Hopkins</td>\n      <td>[Pen Densham, Richard Barton Lewis, John Watson]</td>\n      <td>NaN</td>\n      <td>[John Rice, Joe Batteer]</td>\n      <td>NaN</td>\n      <td>[Jeff Bridges, Tommy Lee Jones, Lloyd Bridges,...</td>\n      <td>...</td>\n      <td>NaN</td>\n      <td>NaN</td>\n      <td>NaN</td>\n      <td>NaN</td>\n      <td>NaN</td>\n      <td>NaN</td>\n      <td>NaN</td>\n      <td>NaN</td>\n      <td>NaN</td>\n      <td>NaN</td>\n    </tr>\n    <tr>\n      <th>2630</th>\n      <td>https://en.wikipedia.org/wiki/Random_Hearts</td>\n      <td>1999.0</td>\n      <td>https://www.imdb.com/title/tt0156934/</td>\n      <td>Random Hearts</td>\n      <td>Sydney Pollack</td>\n      <td>[Martin Jurow, Marykay Powell]</td>\n      <td>Kurt Luedtke</td>\n      <td>NaN</td>\n      <td>[Random Hearts, by, Warren Adler]</td>\n      <td>[Harrison Ford, Kristin Scott Thomas, Charles ...</td>\n      <td>...</td>\n      <td>NaN</td>\n      <td>NaN</td>\n      <td>NaN</td>\n      <td>NaN</td>\n      <td>NaN</td>\n      <td>NaN</td>\n      <td>NaN</td>\n      <td>NaN</td>\n      <td>NaN</td>\n      <td>NaN</td>\n    </tr>\n  </tbody>\n</table>\n<p>3 rows × 193 columns</p>\n</div>"
     },
     "metadata": {},
     "execution_count": 98
    }
   ],
   "source": [
    "wiki_movies_df = pd.DataFrame(wiki_movies_raw)\n",
    "wiki_movies_df.sample(n=3)"
   ]
  },
  {
   "cell_type": "code",
   "execution_count": 99,
   "metadata": {},
   "outputs": [],
   "source": [
    "# wiki_movies_df.columns.to_list()"
   ]
  },
  {
   "cell_type": "code",
   "execution_count": 100,
   "metadata": {},
   "outputs": [
    {
     "output_type": "execute_result",
     "data": {
      "text/plain": [
       "7076"
      ]
     },
     "metadata": {},
     "execution_count": 100
    }
   ],
   "source": [
    "wiki_movies = [movie for movie in wiki_movies_raw\n",
    "                if ('Director' in movie or 'Directed by' in movie)\n",
    "                and ('imdb_link' in movie)\n",
    "                and 'No. of episodes' not in movie]\n",
    "len(wiki_movies)"
   ]
  },
  {
   "cell_type": "code",
   "execution_count": 101,
   "metadata": {},
   "outputs": [
    {
     "output_type": "execute_result",
     "data": {
      "text/plain": [
       "75"
      ]
     },
     "metadata": {},
     "execution_count": 101
    }
   ],
   "source": [
    "wiki_movies_df = pd.DataFrame(wiki_movies)\n",
    "wiki_movies_df.columns.size"
   ]
  },
  {
   "cell_type": "code",
   "execution_count": 102,
   "metadata": {},
   "outputs": [
    {
     "output_type": "execute_result",
     "data": {
      "text/plain": [
       "                                                  url  year  \\\n",
       "6834  https://en.wikipedia.org/wiki/The_Insult_(film)  2018   \n",
       "7058   https://en.wikipedia.org/wiki/Capernaum_(film)  2018   \n",
       "\n",
       "                                  imdb_link       title    Directed by  \\\n",
       "6834  https://www.imdb.com/title/tt7048622/  The Insult   Ziad Doueiri   \n",
       "7058  https://www.imdb.com/title/tt8267604/   Capernaum  Nadine Labaki   \n",
       "\n",
       "                                            Produced by  \\\n",
       "6834  [Rachid Bouchareb, Jean Bréhat, Julie Gayet, A...   \n",
       "7058                    [Michel Merkt, Khaled Mouzanar]   \n",
       "\n",
       "                                          Screenplay by  \\\n",
       "6834                                                NaN   \n",
       "7058  [Nadine Labaki, Jihad Hojaily, Michelle Keserw...   \n",
       "\n",
       "                                               Story by Based on  \\\n",
       "6834                                                NaN      NaN   \n",
       "7058  [Georges Khabbaz, Nadine Labaki, Michelle Kese...      NaN   \n",
       "\n",
       "                                               Starring  ... Hepburn  \\\n",
       "6834                       [Adel Karam, Kamel El Basha]  ...     NaN   \n",
       "7058  [Zain Al Rafeea, Yordanos Shiferaw, Boluwatife...  ...     NaN   \n",
       "\n",
       "        Literally Cantonese Chinese Yiddish       Arabic        Romanized  \\\n",
       "6834  Case No. 23       NaN     NaN     NaN  قضية رقم ٢٣  Qadiyya raqm 23   \n",
       "7058          NaN       NaN     NaN     NaN    کفرناحوم‎              NaN   \n",
       "\n",
       "     Russian Hebrew Polish  \n",
       "6834     NaN    NaN    NaN  \n",
       "7058     NaN    NaN    NaN  \n",
       "\n",
       "[2 rows x 75 columns]"
      ],
      "text/html": "<div>\n<style scoped>\n    .dataframe tbody tr th:only-of-type {\n        vertical-align: middle;\n    }\n\n    .dataframe tbody tr th {\n        vertical-align: top;\n    }\n\n    .dataframe thead th {\n        text-align: right;\n    }\n</style>\n<table border=\"1\" class=\"dataframe\">\n  <thead>\n    <tr style=\"text-align: right;\">\n      <th></th>\n      <th>url</th>\n      <th>year</th>\n      <th>imdb_link</th>\n      <th>title</th>\n      <th>Directed by</th>\n      <th>Produced by</th>\n      <th>Screenplay by</th>\n      <th>Story by</th>\n      <th>Based on</th>\n      <th>Starring</th>\n      <th>...</th>\n      <th>Hepburn</th>\n      <th>Literally</th>\n      <th>Cantonese</th>\n      <th>Chinese</th>\n      <th>Yiddish</th>\n      <th>Arabic</th>\n      <th>Romanized</th>\n      <th>Russian</th>\n      <th>Hebrew</th>\n      <th>Polish</th>\n    </tr>\n  </thead>\n  <tbody>\n    <tr>\n      <th>6834</th>\n      <td>https://en.wikipedia.org/wiki/The_Insult_(film)</td>\n      <td>2018</td>\n      <td>https://www.imdb.com/title/tt7048622/</td>\n      <td>The Insult</td>\n      <td>Ziad Doueiri</td>\n      <td>[Rachid Bouchareb, Jean Bréhat, Julie Gayet, A...</td>\n      <td>NaN</td>\n      <td>NaN</td>\n      <td>NaN</td>\n      <td>[Adel Karam, Kamel El Basha]</td>\n      <td>...</td>\n      <td>NaN</td>\n      <td>Case No. 23</td>\n      <td>NaN</td>\n      <td>NaN</td>\n      <td>NaN</td>\n      <td>قضية رقم ٢٣</td>\n      <td>Qadiyya raqm 23</td>\n      <td>NaN</td>\n      <td>NaN</td>\n      <td>NaN</td>\n    </tr>\n    <tr>\n      <th>7058</th>\n      <td>https://en.wikipedia.org/wiki/Capernaum_(film)</td>\n      <td>2018</td>\n      <td>https://www.imdb.com/title/tt8267604/</td>\n      <td>Capernaum</td>\n      <td>Nadine Labaki</td>\n      <td>[Michel Merkt, Khaled Mouzanar]</td>\n      <td>[Nadine Labaki, Jihad Hojaily, Michelle Keserw...</td>\n      <td>[Georges Khabbaz, Nadine Labaki, Michelle Kese...</td>\n      <td>NaN</td>\n      <td>[Zain Al Rafeea, Yordanos Shiferaw, Boluwatife...</td>\n      <td>...</td>\n      <td>NaN</td>\n      <td>NaN</td>\n      <td>NaN</td>\n      <td>NaN</td>\n      <td>NaN</td>\n      <td>کفرناحوم‎</td>\n      <td>NaN</td>\n      <td>NaN</td>\n      <td>NaN</td>\n      <td>NaN</td>\n    </tr>\n  </tbody>\n</table>\n<p>2 rows × 75 columns</p>\n</div>"
     },
     "metadata": {},
     "execution_count": 102
    }
   ],
   "source": [
    "wiki_movies_df[wiki_movies_df['Arabic'].notnull()]"
   ]
  },
  {
   "cell_type": "code",
   "execution_count": 107,
   "metadata": {},
   "outputs": [],
   "source": [
    "def clean_movie(movie):\n",
    "    movie = dict(movie) # creates a non-destructive, local copy of the original movie dictionary\n",
    "\n",
    "    # combine foreign language columns (as dictionaries) into one column (dictionary called alt_titles)\n",
    "    alt_titles = {}\n",
    "    for key in ['Also known as','Arabic','Cantonese','Chinese','French',\n",
    "                'Hangul','Hebrew','Hepburn','Japanese','Literally',\n",
    "                'Mandarin','McCune–Reischauer','Original title','Polish',\n",
    "                'Revised Romanization','Romanized','Russian',\n",
    "                'Simplified','Traditional','Yiddish']:\n",
    "        if key in movie:\n",
    "            alt_titles[key] = movie[key]\n",
    "            movie.pop(key)\n",
    "    if len(alt_titles) > 0:\n",
    "        movie['alt_titles'] = alt_titles\n",
    "\n",
    "    # merge similar columns that have disparate headers, but the same info \n",
    "    # such as 'Directed by' merges into 'Director', or 'Country of origin' becomes simply 'Country'\n",
    "    def change_column_name(old_name, new_name):\n",
    "        if old_name in movie:\n",
    "            movie[new_name] = movie.pop(old_name)\n",
    "     \n",
    "    # columns to change\n",
    "    change_column_name('Adaptation by', 'Writer(s)')\n",
    "    change_column_name('Country of origin', 'Country')\n",
    "    change_column_name('Directed by', 'Director')\n",
    "    change_column_name('Distributed by', 'Distributor')\n",
    "    change_column_name('Edited by', 'Editor(s)')\n",
    "    change_column_name('Length', 'Running time')\n",
    "    change_column_name('Original release', 'Release date')\n",
    "    change_column_name('Music by', 'Composer(s)')\n",
    "    change_column_name('Produced by', 'Producer(s)')\n",
    "    change_column_name('Producer', 'Producer(s)')\n",
    "    change_column_name('Productioncompanies ', 'Production company(s)')\n",
    "    change_column_name('Productioncompany ', 'Production company(s)')\n",
    "    change_column_name('Released', 'Release Date')\n",
    "    change_column_name('Release Date', 'Release date')\n",
    "    change_column_name('Screen story by', 'Writer(s)')\n",
    "    change_column_name('Screenplay by', 'Writer(s)')\n",
    "    change_column_name('Story by', 'Writer(s)')\n",
    "    change_column_name('Theme music composer', 'Composer(s)')\n",
    "    change_column_name('Written by', 'Writer(s)')\n",
    "\n",
    "    return movie\n"
   ]
  },
  {
   "cell_type": "code",
   "execution_count": 115,
   "metadata": {},
   "outputs": [
    {
     "output_type": "execute_result",
     "data": {
      "text/plain": [
       "39"
      ]
     },
     "metadata": {},
     "execution_count": 115
    }
   ],
   "source": [
    "# run the movies through the cleaning function above and add the cleaned list to a DataFrame\n",
    "clean_movies = [clean_movie(movie) for movie in wiki_movies]\n",
    "wiki_movies_df = pd.DataFrame(clean_movies) \n",
    "wiki_movies_df.columns.size"
   ]
  },
  {
   "cell_type": "code",
   "execution_count": 116,
   "metadata": {},
   "outputs": [
    {
     "output_type": "stream",
     "name": "stdout",
     "text": [
      "7076\n"
     ]
    }
   ],
   "source": [
    "wiki_movies_df['imdb_id'] = wiki_movies_df['imdb_link'].str.extract(r'(tt\\d{7})')\n",
    "print(len(wiki_movies_df))"
   ]
  },
  {
   "cell_type": "code",
   "execution_count": 117,
   "metadata": {},
   "outputs": [
    {
     "output_type": "stream",
     "name": "stdout",
     "text": [
      "7033\n"
     ]
    }
   ],
   "source": [
    "wiki_movies_df.drop_duplicates(subset='imdb_id', inplace=True)\n",
    "print(len(wiki_movies_df))"
   ]
  },
  {
   "cell_type": "code",
   "execution_count": 118,
   "metadata": {},
   "outputs": [
    {
     "output_type": "execute_result",
     "data": {
      "text/plain": [
       "url                       7033\n",
       "year                      7033\n",
       "imdb_link                 7033\n",
       "title                     7032\n",
       "Based on                  2181\n",
       "Starring                  6849\n",
       "Narrated by                281\n",
       "Cinematography            6342\n",
       "Release date              7001\n",
       "Running time              6894\n",
       "Country                   6797\n",
       "Language                  6789\n",
       "Budget                    4738\n",
       "Box office                5485\n",
       "Director                  7033\n",
       "Distributor               6676\n",
       "Editor(s)                 6485\n",
       "Composer(s)               6515\n",
       "Producer(s)               6831\n",
       "Production company(s)     5355\n",
       "Writer(s)                 6834\n",
       "Genre                      110\n",
       "Original language(s)       158\n",
       "Original network           125\n",
       "Executive producer(s)       97\n",
       "Production location(s)      47\n",
       "Picture format              64\n",
       "Audio format                61\n",
       "Voices of                    2\n",
       "Followed by                  9\n",
       "Created by                  10\n",
       "Preceded by                 10\n",
       "Suggested by                 1\n",
       "alt_titles                  21\n",
       "Recorded                     2\n",
       "Venue                        1\n",
       "Label                        2\n",
       "Animation by                 2\n",
       "Color process                1\n",
       "imdb_id                   7033\n",
       "dtype: int64"
      ]
     },
     "metadata": {},
     "execution_count": 118
    }
   ],
   "source": [
    "wiki_movies_df.count()"
   ]
  },
  {
   "cell_type": "code",
   "execution_count": 121,
   "metadata": {},
   "outputs": [
    {
     "output_type": "execute_result",
     "data": {
      "text/plain": [
       "url                          0\n",
       "year                         0\n",
       "imdb_link                    0\n",
       "title                        1\n",
       "Based on                  4852\n",
       "Starring                   184\n",
       "Narrated by               6752\n",
       "Cinematography             691\n",
       "Release date                32\n",
       "Running time               139\n",
       "Country                    236\n",
       "Language                   244\n",
       "Budget                    2295\n",
       "Box office                1548\n",
       "Director                     0\n",
       "Distributor                357\n",
       "Editor(s)                  548\n",
       "Composer(s)                518\n",
       "Producer(s)                202\n",
       "Production company(s)     1678\n",
       "Writer(s)                  199\n",
       "Genre                     6923\n",
       "Original language(s)      6875\n",
       "Original network          6908\n",
       "Executive producer(s)     6936\n",
       "Production location(s)    6986\n",
       "Picture format            6969\n",
       "Audio format              6972\n",
       "Voices of                 7031\n",
       "Followed by               7024\n",
       "Created by                7023\n",
       "Preceded by               7023\n",
       "Suggested by              7032\n",
       "alt_titles                7012\n",
       "Recorded                  7031\n",
       "Venue                     7032\n",
       "Label                     7031\n",
       "Animation by              7031\n",
       "Color process             7032\n",
       "imdb_id                      0\n",
       "dtype: int64"
      ]
     },
     "metadata": {},
     "execution_count": 121
    }
   ],
   "source": [
    "wiki_movies_df.isnull().sum()"
   ]
  },
  {
   "cell_type": "code",
   "execution_count": 122,
   "metadata": {},
   "outputs": [
    {
     "output_type": "execute_result",
     "data": {
      "text/plain": [
       "21"
      ]
     },
     "metadata": {},
     "execution_count": 122
    }
   ],
   "source": [
    "wiki_columns_to_keep = [column for column in wiki_movies_df.columns if wiki_movies_df[column].isnull().sum() < len(wiki_movies_df) * 0.9]\n",
    "wiki_movies_df = wiki_movies_df[wiki_columns_to_keep]\n",
    "wiki_movies_df.columns.size"
   ]
  },
  {
   "cell_type": "code",
   "execution_count": 123,
   "metadata": {},
   "outputs": [
    {
     "output_type": "execute_result",
     "data": {
      "text/plain": [
       "url                      7033\n",
       "year                     7033\n",
       "imdb_link                7033\n",
       "title                    7032\n",
       "Based on                 2181\n",
       "Starring                 6849\n",
       "Cinematography           6342\n",
       "Release date             7001\n",
       "Running time             6894\n",
       "Country                  6797\n",
       "Language                 6789\n",
       "Budget                   4738\n",
       "Box office               5485\n",
       "Director                 7033\n",
       "Distributor              6676\n",
       "Editor(s)                6485\n",
       "Composer(s)              6515\n",
       "Producer(s)              6831\n",
       "Production company(s)    5355\n",
       "Writer(s)                6834\n",
       "imdb_id                  7033\n",
       "dtype: int64"
      ]
     },
     "metadata": {},
     "execution_count": 123
    }
   ],
   "source": [
    "wiki_movies_df.count()"
   ]
  },
  {
   "cell_type": "code",
   "execution_count": 124,
   "metadata": {},
   "outputs": [
    {
     "output_type": "execute_result",
     "data": {
      "text/plain": [
       "url                      object\n",
       "year                      int64\n",
       "imdb_link                object\n",
       "title                    object\n",
       "Based on                 object\n",
       "Starring                 object\n",
       "Cinematography           object\n",
       "Release date             object\n",
       "Running time             object\n",
       "Country                  object\n",
       "Language                 object\n",
       "Budget                   object\n",
       "Box office               object\n",
       "Director                 object\n",
       "Distributor              object\n",
       "Editor(s)                object\n",
       "Composer(s)              object\n",
       "Producer(s)              object\n",
       "Production company(s)    object\n",
       "Writer(s)                object\n",
       "imdb_id                  object\n",
       "dtype: object"
      ]
     },
     "metadata": {},
     "execution_count": 124
    }
   ],
   "source": [
    "wiki_movies_df.dtypes"
   ]
  },
  {
   "cell_type": "code",
   "execution_count": 134,
   "metadata": {},
   "outputs": [
    {
     "output_type": "execute_result",
     "data": {
      "text/plain": [
       "2658              NaN\n",
       "1731      $31 million\n",
       "3439    $12.6 million\n",
       "2756              NaN\n",
       "1021      $25 million\n",
       "1409      $14 million\n",
       "3644      $25 million\n",
       "4375              NaN\n",
       "6133     $110 million\n",
       "2002       $5,765,562\n",
       "Name: Budget, dtype: object"
      ]
     },
     "metadata": {},
     "execution_count": 134
    }
   ],
   "source": [
    "wiki_movies_df['Budget'].sample(n=10)"
   ]
  },
  {
   "cell_type": "code",
   "execution_count": 135,
   "metadata": {},
   "outputs": [],
   "source": [
    "box_office = wiki_movies_df['Box office'].dropna()"
   ]
  },
  {
   "cell_type": "code",
   "execution_count": 136,
   "metadata": {},
   "outputs": [],
   "source": [
    "def is_not_a_string(x):\n",
    "    return type(x) != str"
   ]
  },
  {
   "cell_type": "code",
   "execution_count": 138,
   "metadata": {},
   "outputs": [
    {
     "output_type": "execute_result",
     "data": {
      "text/plain": [
       "34                           [US$, 4,212,828]\n",
       "54      [$6,698,361 (, United States, ), [2]]\n",
       "74                    [$6,488,144, (US), [1]]\n",
       "126                [US$1,531,489, (domestic)]\n",
       "130                          [US$, 4,803,039]\n",
       "                        ...                  \n",
       "6980               [$99.6, million, [4], [5]]\n",
       "6994                   [$365.6, million, [1]]\n",
       "6995                         [$53.8, million]\n",
       "7015                     [$435, million, [7]]\n",
       "7048                   [$529.3, million, [4]]\n",
       "Name: Box office, Length: 135, dtype: object"
      ]
     },
     "metadata": {},
     "execution_count": 138
    }
   ],
   "source": [
    "box_office[box_office.map(lambda x: type(x) != str)]  # is_not_a_string function replaced with lambda function"
   ]
  },
  {
   "cell_type": "code",
   "execution_count": 139,
   "metadata": {},
   "outputs": [],
   "source": [
    "box_office = box_office.apply(lambda x: ' '.join(x) if type(x) == list else x)   # joins the values with a space (' ') only if they are list data type"
   ]
  },
  {
   "cell_type": "code",
   "execution_count": 144,
   "metadata": {},
   "outputs": [],
   "source": [
    "import requests"
   ]
  },
  {
   "cell_type": "code",
   "execution_count": null,
   "metadata": {},
   "outputs": [],
   "source": []
  }
 ]
}